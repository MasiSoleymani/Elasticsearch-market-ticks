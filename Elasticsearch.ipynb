{
 "cells": [
  {
   "cell_type": "code",
   "execution_count": 1,
   "id": "b5c4c90e-e752-47c2-95d1-6ac7bbc7182e",
   "metadata": {},
   "outputs": [
    {
     "name": "stdout",
     "output_type": "stream",
     "text": [
      "{'name': '35db0217e7c2', 'cluster_name': 'docker-cluster', 'cluster_uuid': 'B8bzwDMNRAGS4CcKDzlnLA', 'version': {'number': '8.14.3', 'build_flavor': 'default', 'build_type': 'docker', 'build_hash': 'd55f984299e0e88dee72ebd8255f7ff130859ad0', 'build_date': '2024-07-07T22:04:49.882652950Z', 'build_snapshot': False, 'lucene_version': '9.10.0', 'minimum_wire_compatibility_version': '7.17.0', 'minimum_index_compatibility_version': '7.0.0'}, 'tagline': 'You Know, for Search'}\n"
     ]
    }
   ],
   "source": [
    "from elasticsearch import Elasticsearch\n",
    "\n",
    "es = Elasticsearch(\"http://localhost:9200\")\n",
    "print(es.info())"
   ]
  },
  {
   "cell_type": "code",
   "execution_count": 2,
   "id": "d5ab4efe-5553-4598-b4ec-819e72272caa",
   "metadata": {
    "collapsed": true,
    "jupyter": {
     "outputs_hidden": true
    }
   },
   "outputs": [
    {
     "name": "stdout",
     "output_type": "stream",
     "text": [
      "green  open .internal.alerts-transform.health.alerts-default-000001            ozkMf9pdRg-GFcZVK22jGQ 1 0    0 0    249b    249b    249b\n",
      "green  open .internal.alerts-observability.logs.alerts-default-000001          TAafA1G0RYay6o8mYDS86g 1 0    0 0    249b    249b    249b\n",
      "yellow open market-ticks                                                       QlLhxrubQoug0RyGiA8fgA 1 1    2 0  10.7kb  10.7kb  10.7kb\n",
      "green  open .internal.alerts-observability.uptime.alerts-default-000001        sub_KzhaTwqAGdQbsIR1Fw 1 0    0 0    249b    249b    249b\n",
      "green  open .internal.alerts-ml.anomaly-detection.alerts-default-000001        RyIvfasOS3OlrQK2Fzh4XA 1 0    0 0    249b    249b    249b\n",
      "green  open .internal.alerts-observability.slo.alerts-default-000001           pAPvdnYGSi6lrvpZa3MujQ 1 0    0 0    249b    249b    249b\n",
      "green  open .internal.alerts-default.alerts-default-000001                     2XkPWHL0RlOAYDrnzShuww 1 0    0 0    249b    249b    249b\n",
      "green  open .internal.alerts-observability.apm.alerts-default-000001           i43PFTJNT0qLGkO5FipBFQ 1 0    0 0    249b    249b    249b\n",
      "green  open .internal.alerts-observability.metrics.alerts-default-000001       qfc-UYwkQ_OEzTUgADqU7w 1 0    0 0    249b    249b    249b\n",
      "green  open .kibana-observability-ai-assistant-conversations-000001            mUSDvBKSQ0en67QMubST_g 1 0    0 0    249b    249b    249b\n",
      "green  open .internal.alerts-ml.anomaly-detection-health.alerts-default-000001 lFVrw97kQnik3OHwxnuBDQ 1 0    0 0    249b    249b    249b\n",
      "green  open .internal.alerts-observability.threshold.alerts-default-000001     ECGUdmGZQcyhSvK7Wb5CMw 1 0    0 0    249b    249b    249b\n",
      "green  open .internal.alerts-security.alerts-default-000001                    yKi40KkyQM22AY2fiH9j3A 1 0    0 0    249b    249b    249b\n",
      "green  open .kibana-observability-ai-assistant-kb-000001                       fSpER2cnTP2rDpbW2_hyCw 1 0    0 0    249b    249b    249b\n",
      "yellow open trade-orders                                                       kQQzG6JyQ0CuW58kfsbD2Q 1 1 2495 0 540.7kb 540.7kb 540.7kb\n",
      "green  open .internal.alerts-stack.alerts-default-000001                       jDqsDy_fSTuliQs2GzC8YQ 1 0    0 0    249b    249b    249b\n",
      "\n"
     ]
    }
   ],
   "source": [
    "print(es.cat.indices())"
   ]
  },
  {
   "cell_type": "code",
   "execution_count": 3,
   "id": "8780ab15-da13-4e75-8b36-7ea388da8db7",
   "metadata": {
    "collapsed": true,
    "jupyter": {
     "outputs_hidden": true
    },
    "scrolled": true
   },
   "outputs": [
    {
     "name": "stdout",
     "output_type": "stream",
     "text": [
      "[{'health': 'green', 'status': 'open', 'index': '.internal.alerts-transform.health.alerts-default-000001', 'uuid': 'ozkMf9pdRg-GFcZVK22jGQ', 'pri': '1', 'rep': '0', 'docs.count': '0', 'docs.deleted': '0', 'store.size': '249b', 'pri.store.size': '249b', 'dataset.size': '249b'}, {'health': 'green', 'status': 'open', 'index': '.internal.alerts-observability.logs.alerts-default-000001', 'uuid': 'TAafA1G0RYay6o8mYDS86g', 'pri': '1', 'rep': '0', 'docs.count': '0', 'docs.deleted': '0', 'store.size': '249b', 'pri.store.size': '249b', 'dataset.size': '249b'}, {'health': 'yellow', 'status': 'open', 'index': 'market-ticks', 'uuid': 'QlLhxrubQoug0RyGiA8fgA', 'pri': '1', 'rep': '1', 'docs.count': '2', 'docs.deleted': '0', 'store.size': '10.7kb', 'pri.store.size': '10.7kb', 'dataset.size': '10.7kb'}, {'health': 'green', 'status': 'open', 'index': '.internal.alerts-observability.uptime.alerts-default-000001', 'uuid': 'sub_KzhaTwqAGdQbsIR1Fw', 'pri': '1', 'rep': '0', 'docs.count': '0', 'docs.deleted': '0', 'store.size': '249b', 'pri.store.size': '249b', 'dataset.size': '249b'}, {'health': 'green', 'status': 'open', 'index': '.internal.alerts-ml.anomaly-detection.alerts-default-000001', 'uuid': 'RyIvfasOS3OlrQK2Fzh4XA', 'pri': '1', 'rep': '0', 'docs.count': '0', 'docs.deleted': '0', 'store.size': '249b', 'pri.store.size': '249b', 'dataset.size': '249b'}, {'health': 'green', 'status': 'open', 'index': '.internal.alerts-observability.slo.alerts-default-000001', 'uuid': 'pAPvdnYGSi6lrvpZa3MujQ', 'pri': '1', 'rep': '0', 'docs.count': '0', 'docs.deleted': '0', 'store.size': '249b', 'pri.store.size': '249b', 'dataset.size': '249b'}, {'health': 'green', 'status': 'open', 'index': '.internal.alerts-default.alerts-default-000001', 'uuid': '2XkPWHL0RlOAYDrnzShuww', 'pri': '1', 'rep': '0', 'docs.count': '0', 'docs.deleted': '0', 'store.size': '249b', 'pri.store.size': '249b', 'dataset.size': '249b'}, {'health': 'green', 'status': 'open', 'index': '.internal.alerts-observability.apm.alerts-default-000001', 'uuid': 'i43PFTJNT0qLGkO5FipBFQ', 'pri': '1', 'rep': '0', 'docs.count': '0', 'docs.deleted': '0', 'store.size': '249b', 'pri.store.size': '249b', 'dataset.size': '249b'}, {'health': 'green', 'status': 'open', 'index': '.internal.alerts-observability.metrics.alerts-default-000001', 'uuid': 'qfc-UYwkQ_OEzTUgADqU7w', 'pri': '1', 'rep': '0', 'docs.count': '0', 'docs.deleted': '0', 'store.size': '249b', 'pri.store.size': '249b', 'dataset.size': '249b'}, {'health': 'green', 'status': 'open', 'index': '.kibana-observability-ai-assistant-conversations-000001', 'uuid': 'mUSDvBKSQ0en67QMubST_g', 'pri': '1', 'rep': '0', 'docs.count': '0', 'docs.deleted': '0', 'store.size': '249b', 'pri.store.size': '249b', 'dataset.size': '249b'}, {'health': 'green', 'status': 'open', 'index': '.internal.alerts-ml.anomaly-detection-health.alerts-default-000001', 'uuid': 'lFVrw97kQnik3OHwxnuBDQ', 'pri': '1', 'rep': '0', 'docs.count': '0', 'docs.deleted': '0', 'store.size': '249b', 'pri.store.size': '249b', 'dataset.size': '249b'}, {'health': 'green', 'status': 'open', 'index': '.internal.alerts-observability.threshold.alerts-default-000001', 'uuid': 'ECGUdmGZQcyhSvK7Wb5CMw', 'pri': '1', 'rep': '0', 'docs.count': '0', 'docs.deleted': '0', 'store.size': '249b', 'pri.store.size': '249b', 'dataset.size': '249b'}, {'health': 'green', 'status': 'open', 'index': '.internal.alerts-security.alerts-default-000001', 'uuid': 'yKi40KkyQM22AY2fiH9j3A', 'pri': '1', 'rep': '0', 'docs.count': '0', 'docs.deleted': '0', 'store.size': '249b', 'pri.store.size': '249b', 'dataset.size': '249b'}, {'health': 'green', 'status': 'open', 'index': '.kibana-observability-ai-assistant-kb-000001', 'uuid': 'fSpER2cnTP2rDpbW2_hyCw', 'pri': '1', 'rep': '0', 'docs.count': '0', 'docs.deleted': '0', 'store.size': '249b', 'pri.store.size': '249b', 'dataset.size': '249b'}, {'health': 'yellow', 'status': 'open', 'index': 'trade-orders', 'uuid': 'kQQzG6JyQ0CuW58kfsbD2Q', 'pri': '1', 'rep': '1', 'docs.count': '2495', 'docs.deleted': '0', 'store.size': '540.7kb', 'pri.store.size': '540.7kb', 'dataset.size': '540.7kb'}, {'health': 'green', 'status': 'open', 'index': '.internal.alerts-stack.alerts-default-000001', 'uuid': 'jDqsDy_fSTuliQs2GzC8YQ', 'pri': '1', 'rep': '0', 'docs.count': '0', 'docs.deleted': '0', 'store.size': '249b', 'pri.store.size': '249b', 'dataset.size': '249b'}]\n"
     ]
    }
   ],
   "source": [
    "print(es.cat.indices(format=\"json\"))"
   ]
  },
  {
   "cell_type": "code",
   "execution_count": 4,
   "id": "75c3be90-2d31-410e-8681-a4ad52c32a6e",
   "metadata": {},
   "outputs": [
    {
     "name": "stdout",
     "output_type": "stream",
     "text": [
      "{'market-ticks': {'mappings': {'properties': {'@timestamp': {'type': 'date'}, 'ask': {'type': 'double'}, 'bid': {'type': 'double'}, 'last': {'type': 'double'}, 'symbol': {'type': 'keyword'}, 'timestamp': {'type': 'date'}, 'vol': {'type': 'integer'}}}}}\n"
     ]
    }
   ],
   "source": [
    "mapping = es.indices.get_mapping(index=\"market-ticks\")\n",
    "print(mapping)"
   ]
  },
  {
   "cell_type": "code",
   "execution_count": 5,
   "id": "047589da-b455-4fcf-921b-18f0491c48af",
   "metadata": {
    "collapsed": true,
    "jupyter": {
     "outputs_hidden": true
    },
    "scrolled": true
   },
   "outputs": [
    {
     "name": "stdout",
     "output_type": "stream",
     "text": [
      "{'_shards': {'total': 2, 'successful': 1, 'failed': 0}, '_all': {'primaries': {'docs': {'count': 2, 'deleted': 0, 'total_size_in_bytes': 10588}, 'shard_stats': {'total_count': 1}, 'store': {'size_in_bytes': 11002, 'total_data_set_size_in_bytes': 11002, 'reserved_in_bytes': 0}, 'indexing': {'index_total': 2, 'index_time_in_millis': 17, 'index_current': 0, 'index_failed': 0, 'delete_total': 0, 'delete_time_in_millis': 0, 'delete_current': 0, 'noop_update_total': 0, 'is_throttled': False, 'throttle_time_in_millis': 0, 'write_load': 9.582775797349735e-07}, 'get': {'total': 0, 'time_in_millis': 0, 'exists_total': 0, 'exists_time_in_millis': 0, 'missing_total': 0, 'missing_time_in_millis': 0, 'current': 0}, 'search': {'open_contexts': 0, 'query_total': 9, 'query_time_in_millis': 89, 'query_current': 0, 'fetch_total': 9, 'fetch_time_in_millis': 28, 'fetch_current': 0, 'scroll_total': 0, 'scroll_time_in_millis': 0, 'scroll_current': 0, 'suggest_total': 0, 'suggest_time_in_millis': 0, 'suggest_current': 0}, 'merges': {'current': 0, 'current_docs': 0, 'current_size_in_bytes': 0, 'total': 0, 'total_time_in_millis': 0, 'total_docs': 0, 'total_size_in_bytes': 0, 'total_stopped_time_in_millis': 0, 'total_throttled_time_in_millis': 0, 'total_auto_throttle_in_bytes': 20971520}, 'refresh': {'total': 12, 'total_time_in_millis': 18, 'external_total': 7, 'external_total_time_in_millis': 20, 'listeners': 0}, 'flush': {'total': 5, 'periodic': 5, 'total_time_in_millis': 57, 'total_time_excluding_waiting_on_lock_in_millis': 56}, 'warmer': {'current': 0, 'total': 6, 'total_time_in_millis': 1}, 'query_cache': {'memory_size_in_bytes': 0, 'total_count': 0, 'hit_count': 0, 'miss_count': 0, 'cache_size': 0, 'cache_count': 0, 'evictions': 0}, 'fielddata': {'memory_size_in_bytes': 0, 'evictions': 0, 'global_ordinals': {'build_time_in_millis': 0}}, 'completion': {'size_in_bytes': 0}, 'segments': {'count': 2, 'memory_in_bytes': 0, 'terms_memory_in_bytes': 0, 'stored_fields_memory_in_bytes': 0, 'term_vectors_memory_in_bytes': 0, 'norms_memory_in_bytes': 0, 'points_memory_in_bytes': 0, 'doc_values_memory_in_bytes': 0, 'index_writer_memory_in_bytes': 0, 'version_map_memory_in_bytes': 0, 'fixed_bit_set_memory_in_bytes': 0, 'max_unsafe_auto_id_timestamp': -1, 'file_sizes': {}}, 'translog': {'operations': 0, 'size_in_bytes': 55, 'uncommitted_operations': 0, 'uncommitted_size_in_bytes': 55, 'earliest_last_modified_age': 40494316}, 'request_cache': {'memory_size_in_bytes': 0, 'evictions': 0, 'hit_count': 0, 'miss_count': 4}, 'recovery': {'current_as_source': 0, 'current_as_target': 0, 'throttle_time_in_millis': 0}, 'bulk': {'total_operations': 2, 'total_time_in_millis': 128, 'total_size_in_bytes': 216, 'avg_time_in_millis': 11, 'avg_size_in_bytes': 20}, 'dense_vector': {'value_count': 0}}, 'total': {'docs': {'count': 2, 'deleted': 0, 'total_size_in_bytes': 10588}, 'shard_stats': {'total_count': 1}, 'store': {'size_in_bytes': 11002, 'total_data_set_size_in_bytes': 11002, 'reserved_in_bytes': 0}, 'indexing': {'index_total': 2, 'index_time_in_millis': 17, 'index_current': 0, 'index_failed': 0, 'delete_total': 0, 'delete_time_in_millis': 0, 'delete_current': 0, 'noop_update_total': 0, 'is_throttled': False, 'throttle_time_in_millis': 0, 'write_load': 9.582775797349735e-07}, 'get': {'total': 0, 'time_in_millis': 0, 'exists_total': 0, 'exists_time_in_millis': 0, 'missing_total': 0, 'missing_time_in_millis': 0, 'current': 0}, 'search': {'open_contexts': 0, 'query_total': 9, 'query_time_in_millis': 89, 'query_current': 0, 'fetch_total': 9, 'fetch_time_in_millis': 28, 'fetch_current': 0, 'scroll_total': 0, 'scroll_time_in_millis': 0, 'scroll_current': 0, 'suggest_total': 0, 'suggest_time_in_millis': 0, 'suggest_current': 0}, 'merges': {'current': 0, 'current_docs': 0, 'current_size_in_bytes': 0, 'total': 0, 'total_time_in_millis': 0, 'total_docs': 0, 'total_size_in_bytes': 0, 'total_stopped_time_in_millis': 0, 'total_throttled_time_in_millis': 0, 'total_auto_throttle_in_bytes': 20971520}, 'refresh': {'total': 12, 'total_time_in_millis': 18, 'external_total': 7, 'external_total_time_in_millis': 20, 'listeners': 0}, 'flush': {'total': 5, 'periodic': 5, 'total_time_in_millis': 57, 'total_time_excluding_waiting_on_lock_in_millis': 56}, 'warmer': {'current': 0, 'total': 6, 'total_time_in_millis': 1}, 'query_cache': {'memory_size_in_bytes': 0, 'total_count': 0, 'hit_count': 0, 'miss_count': 0, 'cache_size': 0, 'cache_count': 0, 'evictions': 0}, 'fielddata': {'memory_size_in_bytes': 0, 'evictions': 0, 'global_ordinals': {'build_time_in_millis': 0}}, 'completion': {'size_in_bytes': 0}, 'segments': {'count': 2, 'memory_in_bytes': 0, 'terms_memory_in_bytes': 0, 'stored_fields_memory_in_bytes': 0, 'term_vectors_memory_in_bytes': 0, 'norms_memory_in_bytes': 0, 'points_memory_in_bytes': 0, 'doc_values_memory_in_bytes': 0, 'index_writer_memory_in_bytes': 0, 'version_map_memory_in_bytes': 0, 'fixed_bit_set_memory_in_bytes': 0, 'max_unsafe_auto_id_timestamp': -1, 'file_sizes': {}}, 'translog': {'operations': 0, 'size_in_bytes': 55, 'uncommitted_operations': 0, 'uncommitted_size_in_bytes': 55, 'earliest_last_modified_age': 40494316}, 'request_cache': {'memory_size_in_bytes': 0, 'evictions': 0, 'hit_count': 0, 'miss_count': 4}, 'recovery': {'current_as_source': 0, 'current_as_target': 0, 'throttle_time_in_millis': 0}, 'bulk': {'total_operations': 2, 'total_time_in_millis': 128, 'total_size_in_bytes': 216, 'avg_time_in_millis': 11, 'avg_size_in_bytes': 20}, 'dense_vector': {'value_count': 0}}}, 'indices': {'market-ticks': {'uuid': 'QlLhxrubQoug0RyGiA8fgA', 'health': 'yellow', 'status': 'open', 'primaries': {'docs': {'count': 2, 'deleted': 0, 'total_size_in_bytes': 10588}, 'shard_stats': {'total_count': 1}, 'store': {'size_in_bytes': 11002, 'total_data_set_size_in_bytes': 11002, 'reserved_in_bytes': 0}, 'indexing': {'index_total': 2, 'index_time_in_millis': 17, 'index_current': 0, 'index_failed': 0, 'delete_total': 0, 'delete_time_in_millis': 0, 'delete_current': 0, 'noop_update_total': 0, 'is_throttled': False, 'throttle_time_in_millis': 0, 'write_load': 9.582775797349735e-07}, 'get': {'total': 0, 'time_in_millis': 0, 'exists_total': 0, 'exists_time_in_millis': 0, 'missing_total': 0, 'missing_time_in_millis': 0, 'current': 0}, 'search': {'open_contexts': 0, 'query_total': 9, 'query_time_in_millis': 89, 'query_current': 0, 'fetch_total': 9, 'fetch_time_in_millis': 28, 'fetch_current': 0, 'scroll_total': 0, 'scroll_time_in_millis': 0, 'scroll_current': 0, 'suggest_total': 0, 'suggest_time_in_millis': 0, 'suggest_current': 0}, 'merges': {'current': 0, 'current_docs': 0, 'current_size_in_bytes': 0, 'total': 0, 'total_time_in_millis': 0, 'total_docs': 0, 'total_size_in_bytes': 0, 'total_stopped_time_in_millis': 0, 'total_throttled_time_in_millis': 0, 'total_auto_throttle_in_bytes': 20971520}, 'refresh': {'total': 12, 'total_time_in_millis': 18, 'external_total': 7, 'external_total_time_in_millis': 20, 'listeners': 0}, 'flush': {'total': 5, 'periodic': 5, 'total_time_in_millis': 57, 'total_time_excluding_waiting_on_lock_in_millis': 56}, 'warmer': {'current': 0, 'total': 6, 'total_time_in_millis': 1}, 'query_cache': {'memory_size_in_bytes': 0, 'total_count': 0, 'hit_count': 0, 'miss_count': 0, 'cache_size': 0, 'cache_count': 0, 'evictions': 0}, 'fielddata': {'memory_size_in_bytes': 0, 'evictions': 0, 'global_ordinals': {'build_time_in_millis': 0}}, 'completion': {'size_in_bytes': 0}, 'segments': {'count': 2, 'memory_in_bytes': 0, 'terms_memory_in_bytes': 0, 'stored_fields_memory_in_bytes': 0, 'term_vectors_memory_in_bytes': 0, 'norms_memory_in_bytes': 0, 'points_memory_in_bytes': 0, 'doc_values_memory_in_bytes': 0, 'index_writer_memory_in_bytes': 0, 'version_map_memory_in_bytes': 0, 'fixed_bit_set_memory_in_bytes': 0, 'max_unsafe_auto_id_timestamp': -1, 'file_sizes': {}}, 'translog': {'operations': 0, 'size_in_bytes': 55, 'uncommitted_operations': 0, 'uncommitted_size_in_bytes': 55, 'earliest_last_modified_age': 40494316}, 'request_cache': {'memory_size_in_bytes': 0, 'evictions': 0, 'hit_count': 0, 'miss_count': 4}, 'recovery': {'current_as_source': 0, 'current_as_target': 0, 'throttle_time_in_millis': 0}, 'bulk': {'total_operations': 2, 'total_time_in_millis': 128, 'total_size_in_bytes': 216, 'avg_time_in_millis': 11, 'avg_size_in_bytes': 20}, 'dense_vector': {'value_count': 0}}, 'total': {'docs': {'count': 2, 'deleted': 0, 'total_size_in_bytes': 10588}, 'shard_stats': {'total_count': 1}, 'store': {'size_in_bytes': 11002, 'total_data_set_size_in_bytes': 11002, 'reserved_in_bytes': 0}, 'indexing': {'index_total': 2, 'index_time_in_millis': 17, 'index_current': 0, 'index_failed': 0, 'delete_total': 0, 'delete_time_in_millis': 0, 'delete_current': 0, 'noop_update_total': 0, 'is_throttled': False, 'throttle_time_in_millis': 0, 'write_load': 9.582775797349735e-07}, 'get': {'total': 0, 'time_in_millis': 0, 'exists_total': 0, 'exists_time_in_millis': 0, 'missing_total': 0, 'missing_time_in_millis': 0, 'current': 0}, 'search': {'open_contexts': 0, 'query_total': 9, 'query_time_in_millis': 89, 'query_current': 0, 'fetch_total': 9, 'fetch_time_in_millis': 28, 'fetch_current': 0, 'scroll_total': 0, 'scroll_time_in_millis': 0, 'scroll_current': 0, 'suggest_total': 0, 'suggest_time_in_millis': 0, 'suggest_current': 0}, 'merges': {'current': 0, 'current_docs': 0, 'current_size_in_bytes': 0, 'total': 0, 'total_time_in_millis': 0, 'total_docs': 0, 'total_size_in_bytes': 0, 'total_stopped_time_in_millis': 0, 'total_throttled_time_in_millis': 0, 'total_auto_throttle_in_bytes': 20971520}, 'refresh': {'total': 12, 'total_time_in_millis': 18, 'external_total': 7, 'external_total_time_in_millis': 20, 'listeners': 0}, 'flush': {'total': 5, 'periodic': 5, 'total_time_in_millis': 57, 'total_time_excluding_waiting_on_lock_in_millis': 56}, 'warmer': {'current': 0, 'total': 6, 'total_time_in_millis': 1}, 'query_cache': {'memory_size_in_bytes': 0, 'total_count': 0, 'hit_count': 0, 'miss_count': 0, 'cache_size': 0, 'cache_count': 0, 'evictions': 0}, 'fielddata': {'memory_size_in_bytes': 0, 'evictions': 0, 'global_ordinals': {'build_time_in_millis': 0}}, 'completion': {'size_in_bytes': 0}, 'segments': {'count': 2, 'memory_in_bytes': 0, 'terms_memory_in_bytes': 0, 'stored_fields_memory_in_bytes': 0, 'term_vectors_memory_in_bytes': 0, 'norms_memory_in_bytes': 0, 'points_memory_in_bytes': 0, 'doc_values_memory_in_bytes': 0, 'index_writer_memory_in_bytes': 0, 'version_map_memory_in_bytes': 0, 'fixed_bit_set_memory_in_bytes': 0, 'max_unsafe_auto_id_timestamp': -1, 'file_sizes': {}}, 'translog': {'operations': 0, 'size_in_bytes': 55, 'uncommitted_operations': 0, 'uncommitted_size_in_bytes': 55, 'earliest_last_modified_age': 40494316}, 'request_cache': {'memory_size_in_bytes': 0, 'evictions': 0, 'hit_count': 0, 'miss_count': 4}, 'recovery': {'current_as_source': 0, 'current_as_target': 0, 'throttle_time_in_millis': 0}, 'bulk': {'total_operations': 2, 'total_time_in_millis': 128, 'total_size_in_bytes': 216, 'avg_time_in_millis': 11, 'avg_size_in_bytes': 20}, 'dense_vector': {'value_count': 0}}}}}\n"
     ]
    }
   ],
   "source": [
    "stats = es.indices.stats(index=\"market-ticks\")\n",
    "print(stats)"
   ]
  },
  {
   "cell_type": "code",
   "execution_count": 6,
   "id": "e218e7a4-8009-478b-bc73-7d469f7c80e4",
   "metadata": {
    "collapsed": true,
    "jupyter": {
     "outputs_hidden": true
    }
   },
   "outputs": [
    {
     "name": "stderr",
     "output_type": "stream",
     "text": [
      "/var/folders/08/0t4f35796gzbwn37cdvpbs_m0000gn/T/ipykernel_97111/734656182.py:4: DeprecationWarning: datetime.datetime.utcnow() is deprecated and scheduled for removal in a future version. Use timezone-aware objects to represent datetimes in UTC: datetime.datetime.now(datetime.UTC).\n",
      "  \"timestamp\": datetime.utcnow(),\n"
     ]
    },
    {
     "data": {
      "text/plain": [
       "ObjectApiResponse({'_shards': {'total': 2, 'successful': 1, 'failed': 0}})"
      ]
     },
     "execution_count": 6,
     "metadata": {},
     "output_type": "execute_result"
    }
   ],
   "source": [
    "from datetime import datetime\n",
    "\n",
    "doc = {\n",
    "    \"timestamp\": datetime.utcnow(),\n",
    "    \"symbol\": \"AAPL\",\n",
    "    \"bid\": 175.25,\n",
    "    \"ask\": 175.30,\n",
    "    \"last\": 175.28,\n",
    "    \"vol\": 1000\n",
    "}\n",
    "\n",
    "es.index(index=\"market-ticks\", document=doc)\n",
    "es.indices.refresh(index=\"market-ticks\")"
   ]
  },
  {
   "cell_type": "code",
   "execution_count": 7,
   "id": "0f3cfdc4-d1b0-4d31-82a4-11b82b5402e0",
   "metadata": {
    "collapsed": true,
    "jupyter": {
     "outputs_hidden": true
    }
   },
   "outputs": [
    {
     "name": "stdout",
     "output_type": "stream",
     "text": [
      "[{'_index': 'market-ticks', '_id': 'iOpBl5kBQBuK0ylsjBAR', '_score': 1.0, '_source': {'timestamp': '2025-09-29T20:54:39.370417', 'symbol': 'AAPL', 'bid': 175.25, 'ask': 175.3, 'last': 175.28, 'vol': 1000}}, {'_index': 'market-ticks', '_id': 'iuopmJkBQBuK0yls2hAm', '_score': 1.0, '_source': {'timestamp': '2025-09-30T01:08:23.715548', 'symbol': 'AAPL', 'bid': 175.25, 'ask': 175.3, 'last': 175.28, 'vol': 1000}}, {'_index': 'market-ticks', '_id': 'i-qTmpkBQBuK0ylsvxA1', '_score': 1.0, '_source': {'timestamp': '2025-09-30T12:23:18.065148', 'symbol': 'AAPL', 'bid': 175.25, 'ask': 175.3, 'last': 175.28, 'vol': 1000}}]\n"
     ]
    }
   ],
   "source": [
    "resp = es.search(index=\"market-ticks\", size=5, query={\"match_all\": {}})\n",
    "print(resp[\"hits\"][\"hits\"])"
   ]
  },
  {
   "cell_type": "code",
   "execution_count": 8,
   "id": "4cd23db6-f31e-4ce6-887e-e688b0dcc6a9",
   "metadata": {},
   "outputs": [
    {
     "name": "stdout",
     "output_type": "stream",
     "text": [
      "{'timestamp': '2025-09-30T12:23:18.065148', 'symbol': 'AAPL', 'bid': 175.25, 'ask': 175.3, 'last': 175.28, 'vol': 1000}\n"
     ]
    }
   ],
   "source": [
    "from datetime import datetime, timedelta, timezone\n",
    "from elasticsearch import Elasticsearch\n",
    "\n",
    "es = Elasticsearch(\"http://localhost:9200\")\n",
    "\n",
    "now = datetime.now(timezone.utc).isoformat()\n",
    "one_hour_ago = (datetime.now(timezone.utc) - timedelta(hours=1)).isoformat()\n",
    "\n",
    "q = {\n",
    "  \"bool\": {\n",
    "    \"filter\": [\n",
    "      {\"term\": {\"symbol\": \"AAPL\"}},                 # symbol is 'keyword' → term is correct\n",
    "      {\"range\": {\"timestamp\": {\"gte\": one_hour_ago, \"lte\": now}}},\n",
    "      {\"range\": {\"vol\": {\"gt\": 0}}}\n",
    "    ]\n",
    "  }\n",
    "}\n",
    "\n",
    "resp = es.search(index=\"market-ticks\", size=50, query=q, sort=[{\"timestamp\": \"desc\"}])\n",
    "for h in resp[\"hits\"][\"hits\"]:\n",
    "    print(h[\"_source\"])"
   ]
  },
  {
   "cell_type": "code",
   "execution_count": 9,
   "id": "7b93c311-edbc-4aa6-a0ac-da426af9805f",
   "metadata": {},
   "outputs": [
    {
     "name": "stdout",
     "output_type": "stream",
     "text": [
      "{'avg_bid': {'value': 175.25}, 'avg_ask': {'value': 175.3}, 'avg_last': {'value': 175.28}}\n"
     ]
    }
   ],
   "source": [
    "agg = {\n",
    "  \"size\": 0,                     # we don't need individual docs\n",
    "  \"query\": q,                    # reuse the same filter you built\n",
    "  \"aggs\": {\n",
    "    \"avg_bid\":  {\"avg\": {\"field\": \"bid\"}},\n",
    "    \"avg_ask\":  {\"avg\": {\"field\": \"ask\"}},\n",
    "    \"avg_last\": {\"avg\": {\"field\": \"last\"}}\n",
    "  }\n",
    "}\n",
    "\n",
    "resp = es.search(index=\"market-ticks\", body=agg)\n",
    "print(resp[\"aggregations\"])"
   ]
  },
  {
   "cell_type": "code",
   "execution_count": 10,
   "id": "7d324e3a-0ba5-40e5-a870-9c83b515acdd",
   "metadata": {},
   "outputs": [
    {
     "name": "stdout",
     "output_type": "stream",
     "text": [
      "2025-09-30T12:23:00.000Z 175.28 175.28 175.28 1000.0\n"
     ]
    }
   ],
   "source": [
    "bars = {\n",
    "  \"size\": 0,\n",
    "  \"query\": q,        # reuse your filter\n",
    "  \"aggs\": {\n",
    "    \"by_minute\": {\n",
    "      \"date_histogram\": {\n",
    "        \"field\": \"timestamp\",\n",
    "        \"calendar_interval\": \"minute\"\n",
    "      },\n",
    "      \"aggs\": {\n",
    "        \"min_last\": {\"min\": {\"field\": \"last\"}},\n",
    "        \"max_last\": {\"max\": {\"field\": \"last\"}},\n",
    "        \"avg_last\": {\"avg\": {\"field\": \"last\"}},\n",
    "        \"sum_vol\":  {\"sum\": {\"field\": \"vol\"}}\n",
    "      }\n",
    "    }\n",
    "  }\n",
    "}\n",
    "\n",
    "resp = es.search(index=\"market-ticks\", body=bars)\n",
    "\n",
    "for b in resp[\"aggregations\"][\"by_minute\"][\"buckets\"]:\n",
    "    print(b[\"key_as_string\"],\n",
    "          b[\"min_last\"][\"value\"],\n",
    "          b[\"max_last\"][\"value\"],\n",
    "          b[\"avg_last\"][\"value\"],\n",
    "          b[\"sum_vol\"][\"value\"])"
   ]
  },
  {
   "cell_type": "code",
   "execution_count": 11,
   "id": "6d643930-669c-40a1-a5bc-b7fd8a2948d3",
   "metadata": {
    "collapsed": true,
    "jupyter": {
     "outputs_hidden": true
    }
   },
   "outputs": [
    {
     "data": {
      "image/png": "[encoded data removed]",
      "text/plain": [
       "<Figure size 1000x400 with 1 Axes>"
      ]
     },
     "metadata": {},
     "output_type": "display_data"
    },
    {
     "data": {
      "image/png": "[encoded data removed]",
      "text/plain": [
       "<Figure size 1000x400 with 1 Axes>"
      ]
     },
     "metadata": {},
     "output_type": "display_data"
    }
   ],
   "source": [
    "import matplotlib.pyplot as plt\n",
    "from datetime import datetime\n",
    "from datetime import timezone\n",
    "\n",
    "# Extract data from aggregation result\n",
    "times, avg_last, volumes = [], [], []\n",
    "\n",
    "for b in resp[\"aggregations\"][\"by_minute\"][\"buckets\"]:\n",
    "    # convert ES timestamp (ms) to Python datetime\n",
    "    ts = datetime.fromtimestamp(b[\"key\"] / 1000.0, tz=timezone.utc)\n",
    "    times.append(ts)\n",
    "    avg_last.append(b[\"avg_last\"][\"value\"])\n",
    "    volumes.append(b[\"sum_vol\"][\"value\"])\n",
    "\n",
    "# --- Plot average price over time ---\n",
    "plt.figure(figsize=(10,4))\n",
    "plt.plot(times, avg_last, marker=\"o\")\n",
    "plt.title(\"AAPL – Average Last Price per Minute\")\n",
    "plt.xlabel(\"Time\")\n",
    "plt.ylabel(\"Avg Last Price\")\n",
    "plt.grid(True)\n",
    "plt.tight_layout()\n",
    "plt.show()\n",
    "\n",
    "# --- Plot volume over time ---\n",
    "plt.figure(figsize=(10,4))\n",
    "plt.bar(times, volumes, width=0.02)   # thin bars\n",
    "plt.title(\"AAPL – Volume per Minute\")\n",
    "plt.xlabel(\"Time\")\n",
    "plt.ylabel(\"Volume\")\n",
    "plt.tight_layout()\n",
    "plt.show()"
   ]
  }
 ],
 "metadata": {
  "kernelspec": {
   "display_name": "Python [conda env:base] *",
   "language": "python",
   "name": "conda-base-py"
  },
  "language_info": {
   "codemirror_mode": {
    "name": "ipython",
    "version": 3
   },
   "file_extension": ".py",
   "mimetype": "text/x-python",
   "name": "python",
   "nbconvert_exporter": "python",
   "pygments_lexer": "ipython3",
   "version": "3.13.5"
  }
 },
 "nbformat": 4,
 "nbformat_minor": 5
}
